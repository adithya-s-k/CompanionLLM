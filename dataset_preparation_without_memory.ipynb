{
 "cells": [
  {
   "cell_type": "markdown",
   "metadata": {},
   "source": [
    "# Approach 2: Dataset Preparation with Prompt Completion Pairs\n",
    "\n",
    "For the second dataset preparation approach, I processed data involving prompt completion pairs:\n",
    "\n",
    "## Dataset Structure:\n",
    "\n",
    "In this approach, the dataset structure was simplified to the following format:\n",
    "\n",
    "```markdown\n",
    "### Human:\n",
    "### Companion:\n"
   ]
  },
  {
   "cell_type": "code",
   "execution_count": 8,
   "metadata": {},
   "outputs": [],
   "source": [
    "import json\n",
    "\n",
    "with open('./data/companion_base_dataset.json', 'r', encoding='utf-8') as json_file:\n",
    "    data = json.load(json_file)\n",
    "\n",
    "new_data = []\n",
    "\n",
    "for item in data:\n",
    "    conversation_id = item['id']\n",
    "    conversations = item['conversations']\n",
    "    temp_list = []\n",
    "    \n",
    "    if len(item['conversations'])%2 == 0:\n",
    "        for i in range(0,len(conversations),2):\n",
    "            iteration = int(i/2)\n",
    "            interated_conversations = f\"conversation_{iteration}\"\n",
    "            temp_list.append(item['conversations'][i:i+2])\n",
    "        new_item ={\n",
    "            \"id\": conversation_id,\n",
    "            \"conversations\": temp_list\n",
    "        }\n",
    "        new_data.append(new_item)\n",
    "    else:\n",
    "        print(\"Odd number of conversations\")\n",
    "\n",
    "output_file_path = './data/companion_dataset_v2.json'\n",
    "with open(output_file_path, 'w') as output_file:\n",
    "    json.dump(new_data, output_file, indent=2)"
   ]
  },
  {
   "cell_type": "markdown",
   "metadata": {},
   "source": [
    "#### Editing Companion Name"
   ]
  },
  {
   "cell_type": "code",
   "execution_count": 9,
   "metadata": {},
   "outputs": [
    {
     "name": "stdout",
     "output_type": "stream",
     "text": [
      "Replacement complete. Modified JSON saved to: ./data/Avalon_dataset.json\n"
     ]
    }
   ],
   "source": [
    "import json\n",
    "\n",
    "# Define your input\n",
    "companion_name = \"Avalon\"\n",
    "\n",
    "# Load the JSON content from the file\n",
    "file_path = './data/companion_dataset_v2.json'  # Replace with your file path\n",
    "with open(file_path, 'r', encoding='utf-8') as json_file:\n",
    "    json_content = json_file.read()\n",
    "\n",
    "# Replace the special keyword with your input\n",
    "modified_content = json_content.replace(\"{CompanionLLama}\", companion_name)\n",
    "\n",
    "# Write the modified content back to the file\n",
    "output_file_path = f'./data/{companion_name}_dataset.json'  # Replace with your desired output file path\n",
    "with open(output_file_path, 'w', encoding='utf-8') as output_file:\n",
    "    output_file.write(modified_content)\n",
    "\n",
    "print(\"Replacement complete. Modified JSON saved to:\", output_file_path)"
   ]
  },
  {
   "cell_type": "markdown",
   "metadata": {},
   "source": [
    "#### Convert to Text dataset to feed to the model"
   ]
  },
  {
   "cell_type": "code",
   "execution_count": 10,
   "metadata": {},
   "outputs": [],
   "source": [
    "with open(\"./data/Avalon_dataset.json\" , \"r\" , encoding=\"utf-8\") as json_file:\n",
    "    data = json.load(json_file)\n",
    "    \n",
    "formatted_conversations = []\n",
    "\n",
    "for items in data:\n",
    "    for conversations in items[\"conversations\"]:\n",
    "        conversation_length = len(conversations)\n",
    "        text_conversation = \"\"\n",
    "        for idx,role in enumerate(conversations):\n",
    "            if role[\"from\"] == \"human\":\n",
    "                formatted_text = f\"### Human: {role['value']}\\n\"\n",
    "                text_conversation += formatted_text\n",
    "            elif role[\"from\"] == \"gpt\":\n",
    "                if idx == conversation_length - 1:  # Check if it's the last element\n",
    "                    formatted_text = f\"### Response: {role['value']}\"\n",
    "                    text_conversation += formatted_text\n",
    "                else:\n",
    "                    formatted_text = f\"### Companion: {role['value']}\\n\"\n",
    "                    text_conversation += formatted_text\n",
    "            \n",
    "        formatted_conversations.append({\"text\":text_conversation})\n",
    "        \n",
    "output_file_path = './data/Avalon.json'\n",
    "with open(output_file_path, 'w') as output_file:\n",
    "    json.dump(formatted_conversations, output_file, indent=2)\n"
   ]
  },
  {
   "cell_type": "markdown",
   "metadata": {},
   "source": [
    "## Push Dataset to Hub"
   ]
  },
  {
   "cell_type": "code",
   "execution_count": null,
   "metadata": {},
   "outputs": [],
   "source": [
    "from huggingface_hub import notebook_login\n",
    "from datasets import load_dataset\n",
    "notebook_login()"
   ]
  },
  {
   "cell_type": "code",
   "execution_count": null,
   "metadata": {},
   "outputs": [],
   "source": [
    "dataset = load_dataset('json', data_files='./data/Avalon.json' , split='train')"
   ]
  },
  {
   "cell_type": "code",
   "execution_count": 12,
   "metadata": {},
   "outputs": [
    {
     "name": "stdout",
     "output_type": "stream",
     "text": [
      "[\"### Human: Hey Avalon, I've run into a bit of a tricky situation at work, and I'm not sure how to handle it. Do you have any advice?\\n### Response: I'd be happy to help if I can. Can you give me some details about the situation you're facing?\"]\n"
     ]
    }
   ],
   "source": [
    "print(dataset['text'][:1])"
   ]
  },
  {
   "cell_type": "code",
   "execution_count": 13,
   "metadata": {},
   "outputs": [
    {
     "name": "stdout",
     "output_type": "stream",
     "text": [
      "29655\n"
     ]
    }
   ],
   "source": [
    "print(len(dataset['text']))"
   ]
  },
  {
   "cell_type": "code",
   "execution_count": null,
   "metadata": {},
   "outputs": [],
   "source": [
    "dataset.push_to_hub(\"Avalon_instruction_30k\")"
   ]
  }
 ],
 "metadata": {
  "kernelspec": {
   "display_name": "Python 3",
   "language": "python",
   "name": "python3"
  },
  "language_info": {
   "codemirror_mode": {
    "name": "ipython",
    "version": 3
   },
   "file_extension": ".py",
   "mimetype": "text/x-python",
   "name": "python",
   "nbconvert_exporter": "python",
   "pygments_lexer": "ipython3",
   "version": "3.11.0"
  },
  "orig_nbformat": 4
 },
 "nbformat": 4,
 "nbformat_minor": 2
}
