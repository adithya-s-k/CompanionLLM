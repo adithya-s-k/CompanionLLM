{
 "cells": [
  {
   "cell_type": "code",
   "execution_count": null,
   "metadata": {},
   "outputs": [],
   "source": [
    "from datasets import load_dataset\n",
    "\n",
    "dataset = load_dataset(\"julep-ai/samantha-dataset-v4-instructonly-prompt_response-2048\")\n",
    "\n"
   ]
  },
  {
   "cell_type": "code",
   "execution_count": null,
   "metadata": {},
   "outputs": [],
   "source": [
    "dataset"
   ]
  },
  {
   "cell_type": "code",
   "execution_count": null,
   "metadata": {},
   "outputs": [],
   "source": [
    "final_list = []\n",
    "\n",
    "for i in range(10):\n",
    "    json = dataset['train'][i]\n",
    "    final_list.append(json)\n",
    "    \n",
    "\n",
    "with open(\"data_set_prep.json\", 'w') as output_file:\n",
    "    json.dump(final_list, output_file, indent=2)\n",
    "\n"
   ]
  },
  {
   "cell_type": "code",
   "execution_count": null,
   "metadata": {},
   "outputs": [],
   "source": [
    "import json\n",
    "\n",
    "final_list = []\n",
    "\n",
    "# Assuming 'dataset' is a dictionary containing 'train' data\n",
    "for i in range(len(dataset['train'])):\n",
    "    json_data = dataset['train'][i]\n",
    "    json_data[\"text\"] = json_data[\"prompt\"] + json_data[\"response\"]\n",
    "    final_list.append(json_data)\n",
    "\n",
    "with open(\"data_set_prep.json\", 'w') as output_file:\n",
    "    json.dump(final_list, output_file, indent=2)"
   ]
  }
 ],
 "metadata": {
  "kernelspec": {
   "display_name": "venv",
   "language": "python",
   "name": "python3"
  },
  "language_info": {
   "codemirror_mode": {
    "name": "ipython",
    "version": 3
   },
   "file_extension": ".py",
   "mimetype": "text/x-python",
   "name": "python",
   "nbconvert_exporter": "python",
   "pygments_lexer": "ipython3",
   "version": "3.11.0"
  },
  "orig_nbformat": 4
 },
 "nbformat": 4,
 "nbformat_minor": 2
}
