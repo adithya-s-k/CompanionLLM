{
 "cells": [
  {
   "cell_type": "markdown",
   "metadata": {},
   "source": [
    "## Processing Dataset"
   ]
  },
  {
   "cell_type": "code",
   "execution_count": 61,
   "metadata": {},
   "outputs": [],
   "source": [
    "import json\n",
    "\n",
    "with open('./data/companion_base_dataset.json', 'r', encoding='utf-8') as json_file:\n",
    "    data = json.load(json_file)\n",
    "\n",
    "new_data = []\n",
    "\n",
    "for item in data:\n",
    "    conversation_id = item['id']\n",
    "    conversations = item['conversations']\n",
    "    temp_list = []\n",
    "    \n",
    "    if len(item['conversations'])%2 == 0:\n",
    "        totalnum = totalnum + len(item['conversations'])\n",
    "        for i in range(2,len(conversations)+2,2):\n",
    "            iteration = int(i/2)\n",
    "            interated_conversations = f\"conversation_{iteration}\"\n",
    "            temp_list.append(item['conversations'][:i])\n",
    "        new_item ={\n",
    "            \"id\": conversation_id,\n",
    "            \"conversations\": temp_list\n",
    "        }\n",
    "        new_data.append(new_item)\n",
    "    else:\n",
    "        print(\"Odd number of conversations\")\n",
    "\n",
    "output_file_path = './data/companion_dataset.json'\n",
    "with open(output_file_path, 'w') as output_file:\n",
    "    json.dump(new_data, output_file, indent=2)\n"
   ]
  },
  {
   "cell_type": "markdown",
   "metadata": {},
   "source": [
    "#### Editing Companion Name"
   ]
  },
  {
   "cell_type": "code",
   "execution_count": 62,
   "metadata": {},
   "outputs": [
    {
     "name": "stdout",
     "output_type": "stream",
     "text": [
      "Replacement complete. Modified JSON saved to: ./data/Avalon_dataset.json\n"
     ]
    }
   ],
   "source": [
    "import json\n",
    "\n",
    "# Define your input\n",
    "companion_name = \"Avalon\"\n",
    "\n",
    "# Load the JSON content from the file\n",
    "file_path = './data/companion_dataset.json'  # Replace with your file path\n",
    "with open(file_path, 'r', encoding='utf-8') as json_file:\n",
    "    json_content = json_file.read()\n",
    "\n",
    "# Replace the special keyword with your input\n",
    "modified_content = json_content.replace(\"{CompanionLLama}\", companion_name)\n",
    "\n",
    "# Write the modified content back to the file\n",
    "output_file_path = f'./data/{companion_name}_dataset.json'  # Replace with your desired output file path\n",
    "with open(output_file_path, 'w', encoding='utf-8') as output_file:\n",
    "    output_file.write(modified_content)\n",
    "\n",
    "print(\"Replacement complete. Modified JSON saved to:\", output_file_path)"
   ]
  },
  {
   "cell_type": "markdown",
   "metadata": {},
   "source": [
    "## Push Dataset to Hub"
   ]
  },
  {
   "cell_type": "code",
   "execution_count": null,
   "metadata": {},
   "outputs": [],
   "source": []
  }
 ],
 "metadata": {
  "kernelspec": {
   "display_name": "Python 3",
   "language": "python",
   "name": "python3"
  },
  "language_info": {
   "codemirror_mode": {
    "name": "ipython",
    "version": 3
   },
   "file_extension": ".py",
   "mimetype": "text/x-python",
   "name": "python",
   "nbconvert_exporter": "python",
   "pygments_lexer": "ipython3",
   "version": "3.10.9"
  },
  "orig_nbformat": 4
 },
 "nbformat": 4,
 "nbformat_minor": 2
}
