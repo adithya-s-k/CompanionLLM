{
 "cells": [
  {
   "cell_type": "markdown",
   "metadata": {},
   "source": [
    "## Processing Dataset"
   ]
  },
  {
   "cell_type": "code",
   "execution_count": 3,
   "metadata": {},
   "outputs": [],
   "source": [
    "import json\n",
    "\n",
    "with open('./data/companion_base_dataset.json', 'r', encoding='utf-8') as json_file:\n",
    "    data = json.load(json_file)\n",
    "\n",
    "new_data = []\n",
    "\n",
    "for item in data:\n",
    "    conversation_id = item['id']\n",
    "    conversations = item['conversations']\n",
    "    temp_list = []\n",
    "    \n",
    "    if len(item['conversations'])%2 == 0:\n",
    "        for i in range(2,len(conversations)+2,2):\n",
    "            iteration = int(i/2)\n",
    "            interated_conversations = f\"conversation_{iteration}\"\n",
    "            temp_list.append(item['conversations'][:i])\n",
    "        new_item ={\n",
    "            \"id\": conversation_id,\n",
    "            \"conversations\": temp_list\n",
    "        }\n",
    "        new_data.append(new_item)\n",
    "    else:\n",
    "        print(\"Odd number of conversations\")\n",
    "\n",
    "output_file_path = './data/companion_dataset.json'\n",
    "with open(output_file_path, 'w') as output_file:\n",
    "    json.dump(new_data, output_file, indent=2)\n"
   ]
  },
  {
   "cell_type": "markdown",
   "metadata": {},
   "source": [
    "#### Editing Companion Name"
   ]
  },
  {
   "cell_type": "code",
   "execution_count": 4,
   "metadata": {},
   "outputs": [
    {
     "name": "stdout",
     "output_type": "stream",
     "text": [
      "Replacement complete. Modified JSON saved to: ./data/Avalon_dataset.json\n"
     ]
    }
   ],
   "source": [
    "import json\n",
    "\n",
    "# Define your input\n",
    "companion_name = \"Your Companion Name\"\n",
    "\n",
    "# Load the JSON content from the file\n",
    "file_path = './data/companion_dataset.json'  # Replace with your file path\n",
    "with open(file_path, 'r', encoding='utf-8') as json_file:\n",
    "    json_content = json_file.read()\n",
    "\n",
    "# Replace the special keyword with your input\n",
    "modified_content = json_content.replace(\"{CompanionLLama}\", companion_name)\n",
    "\n",
    "# Write the modified content back to the file\n",
    "output_file_path = f'./data/{companion_name}_dataset.json'  # Replace with your desired output file path\n",
    "with open(output_file_path, 'w', encoding='utf-8') as output_file:\n",
    "    output_file.write(modified_content)\n",
    "\n",
    "print(\"Replacement complete. Modified JSON saved to:\", output_file_path)"
   ]
  },
  {
   "cell_type": "markdown",
   "metadata": {},
   "source": [
    "#### Convert to Text dataset to feed to the model"
   ]
  },
  {
   "cell_type": "code",
   "execution_count": 6,
   "metadata": {},
   "outputs": [],
   "source": [
    "with open(\"./data/companion_dataset.json\" , \"r\" , encoding=\"utf-8\") as json_file:\n",
    "    data = json.load(json_file)\n",
    "    \n",
    "formatted_conversations = []\n",
    "\n",
    "for items in data:\n",
    "    for conversations in items[\"conversations\"]:\n",
    "        conversation_length = len(conversations)\n",
    "        text_conversation = \"\"\n",
    "        for idx,role in enumerate(conversations):\n",
    "            if role[\"from\"] == \"human\":\n",
    "                formatted_text = f\"###Human: {role['value']}\\n\"\n",
    "                text_conversation += formatted_text\n",
    "            elif role[\"from\"] == \"gpt\":\n",
    "                if idx == conversation_length - 1:  # Check if it's the last element\n",
    "                    formatted_text = f\"###Response: {role['value']}\"\n",
    "                    text_conversation += formatted_text\n",
    "                else:\n",
    "                    formatted_text = f\"###Companion: {role['value']}\\n\"\n",
    "                    text_conversation += formatted_text\n",
    "            \n",
    "        formatted_conversations.append({\"text\":text_conversation})\n",
    "        \n",
    "output_file_path = './data/huggingface_companion.json'\n",
    "with open(output_file_path, 'w') as output_file:\n",
    "    json.dump(formatted_conversations, output_file, indent=2)\n"
   ]
  },
  {
   "cell_type": "markdown",
   "metadata": {},
   "source": [
    "## Push Dataset to Hub"
   ]
  },
  {
   "cell_type": "code",
   "execution_count": 8,
   "metadata": {},
   "outputs": [
    {
     "data": {
      "application/vnd.jupyter.widget-view+json": {
       "model_id": "e1e056036e4f4142a0717aff37c80b6d",
       "version_major": 2,
       "version_minor": 0
      },
      "text/plain": [
       "VBox(children=(HTML(value='<center> <img\\nsrc=https://huggingface.co/front/assets/huggingface_logo-noborder.sv…"
      ]
     },
     "metadata": {},
     "output_type": "display_data"
    }
   ],
   "source": [
    "from huggingface_hub import notebook_login\n",
    "from datasets import load_dataset\n",
    "notebook_login()"
   ]
  },
  {
   "cell_type": "code",
   "execution_count": 13,
   "metadata": {},
   "outputs": [
    {
     "name": "stderr",
     "output_type": "stream",
     "text": [
      "Downloading data files: 100%|██████████| 1/1 [00:00<00:00, 999.60it/s]\n",
      "Extracting data files: 100%|██████████| 1/1 [00:00<00:00, 249.38it/s]\n",
      "Generating train split: 29655 examples [00:00, 44315.07 examples/s]\n"
     ]
    }
   ],
   "source": [
    "dataset = load_dataset('json', data_files='./data/huggingface_companion.json' , split='train')"
   ]
  },
  {
   "cell_type": "code",
   "execution_count": 14,
   "metadata": {},
   "outputs": [
    {
     "name": "stdout",
     "output_type": "stream",
     "text": [
      "[\"###Human: Hey {CompanionLLama}, I've run into a bit of a tricky situation at work, and I'm not sure how to handle it. Do you have any advice?\\n###Response: I'd be happy to help if I can. Can you give me some details about the situation you're facing?\"]\n"
     ]
    }
   ],
   "source": [
    "print(dataset['text'][:1])"
   ]
  },
  {
   "cell_type": "code",
   "execution_count": 16,
   "metadata": {},
   "outputs": [
    {
     "name": "stderr",
     "output_type": "stream",
     "text": [
      "Creating parquet from Arrow format: 100%|██████████| 30/30 [00:00<00:00, 122.09ba/s]\n",
      "Pushing dataset shards to the dataset hub: 100%|██████████| 1/1 [00:05<00:00,  5.85s/it]\n"
     ]
    }
   ],
   "source": [
    "dataset.push_to_hub(\"CompanionLLama\")"
   ]
  }
 ],
 "metadata": {
  "kernelspec": {
   "display_name": "Python 3",
   "language": "python",
   "name": "python3"
  },
  "language_info": {
   "codemirror_mode": {
    "name": "ipython",
    "version": 3
   },
   "file_extension": ".py",
   "mimetype": "text/x-python",
   "name": "python",
   "nbconvert_exporter": "python",
   "pygments_lexer": "ipython3",
   "version": "3.11.0"
  },
  "orig_nbformat": 4
 },
 "nbformat": 4,
 "nbformat_minor": 2
}
