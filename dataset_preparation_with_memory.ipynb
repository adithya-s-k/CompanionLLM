{
 "cells": [
  {
   "cell_type": "markdown",
   "metadata": {},
   "source": [
    "# Approach 1: Dataset Preparation with Context of Previous Conversation - Adding Memory\n",
    "\n",
    "To create a dataset with contextual memory for fine-tuning a Language Model (LLM), I recommend using the [Dataset preparation without memory](https://github.com/adithya-s-k/CompanionLLama/blob/main/dataset_preparation_without_memory.ipynb) approach. This approach involves organizing the data into prompt and completion pairs, eliminating repetition.\n",
    "\n",
    "## Initial Dataset Structure:\n",
    "\n",
    "The initial dataset I processed follows this structure:\n",
    "\n",
    "```markdown\n",
    "### Human:\n",
    "### Companion:\n",
    "### Human:\n",
    "### Companion:\n",
    "...\n",
    "### Human:\n",
    "### Response:\n",
    "```\n",
    "\n",
    "To maintain the context of the previous conversation, I introduced three different tags:\n",
    "\n",
    "- `### Human - Previous message by the human`\n",
    "- `### Companion - Previous messages by the Companion`\n",
    "- `### Response - The current response by the Companion given the context of the previous conversation`\n",
    "\n",
    "However, during inference, it was observed that there was a significant amount of repetition in the responses. To address this issue, I propose the addition of an end-of-sequence token. Something like this\n",
    "\n",
    "```\n",
    "### Human :\n",
    "### Response :\n",
    "### Human :\n",
    "### Response :\n",
    "### Human :\n",
    "### Response :\n",
    "```"
   ]
  },
  {
   "cell_type": "code",
   "execution_count": null,
   "metadata": {},
   "outputs": [],
   "source": [
    "import json\n",
    "\n",
    "with open('./data/companion_base_dataset.json', 'r', encoding='utf-8') as json_file:\n",
    "    data = json.load(json_file)\n",
    "\n",
    "new_data = []\n",
    "\n",
    "for item in data:\n",
    "    conversation_id = item['id']\n",
    "    conversations = item['conversations']\n",
    "    temp_list = []\n",
    "    \n",
    "    if len(item['conversations'])%2 == 0:\n",
    "        for i in range(2,len(conversations)+2,2):\n",
    "            iteration = int(i/2)\n",
    "            interated_conversations = f\"conversation_{iteration}\"\n",
    "            temp_list.append(item['conversations'][:i])\n",
    "        new_item ={\n",
    "            \"id\": conversation_id,\n",
    "            \"conversations\": temp_list\n",
    "        }\n",
    "        new_data.append(new_item)\n",
    "    else:\n",
    "        print(\"Odd number of conversations\")\n",
    "\n",
    "output_file_path = './data/companion_dataset.json'\n",
    "with open(output_file_path, 'w') as output_file:\n",
    "    json.dump(new_data, output_file, indent=2)"
   ]
  },
  {
   "cell_type": "markdown",
   "metadata": {},
   "source": [
    "#### Editing Companion Name"
   ]
  },
  {
   "cell_type": "code",
   "execution_count": null,
   "metadata": {},
   "outputs": [],
   "source": [
    "import json\n",
    "\n",
    "# Define your input\n",
    "companion_name = \"Your Companion Name\"\n",
    "\n",
    "# Load the JSON content from the file\n",
    "file_path = './data/companion_dataset.json'  # Replace with your file path\n",
    "with open(file_path, 'r', encoding='utf-8') as json_file:\n",
    "    json_content = json_file.read()\n",
    "\n",
    "# Replace the special keyword with your input\n",
    "modified_content = json_content.replace(\"{CompanionLLama}\", companion_name)\n",
    "\n",
    "# Write the modified content back to the file\n",
    "output_file_path = f'./data/{companion_name}_dataset.json'  # Replace with your desired output file path\n",
    "with open(output_file_path, 'w', encoding='utf-8') as output_file:\n",
    "    output_file.write(modified_content)\n",
    "\n",
    "print(\"Replacement complete. Modified JSON saved to:\", output_file_path)"
   ]
  },
  {
   "cell_type": "markdown",
   "metadata": {},
   "source": [
    "#### Convert to Text dataset to feed to the model"
   ]
  },
  {
   "cell_type": "code",
   "execution_count": null,
   "metadata": {},
   "outputs": [],
   "source": [
    "with open(\"./data/companion_dataset.json\" , \"r\" , encoding=\"utf-8\") as json_file:\n",
    "    data = json.load(json_file)\n",
    "    \n",
    "formatted_conversations = []\n",
    "\n",
    "for items in data:\n",
    "    for conversations in items[\"conversations\"]:\n",
    "        conversation_length = len(conversations)\n",
    "        text_conversation = \"\"\n",
    "        for idx,role in enumerate(conversations):\n",
    "            if role[\"from\"] == \"human\":\n",
    "                formatted_text = f\"### Human: {role['value']}\\n\"\n",
    "                text_conversation += formatted_text\n",
    "            elif role[\"from\"] == \"gpt\":\n",
    "                if idx == conversation_length - 1:  # Check if it's the last element\n",
    "                    formatted_text = f\"### Response: {role['value']}\"\n",
    "                    text_conversation += formatted_text\n",
    "                else:\n",
    "                    formatted_text = f\"### Companion: {role['value']}\\n\"\n",
    "                    text_conversation += formatted_text\n",
    "            \n",
    "        formatted_conversations.append({\"text\":text_conversation})\n",
    "        \n",
    "output_file_path = './data/huggingface_companion.json'\n",
    "with open(output_file_path, 'w') as output_file:\n",
    "    json.dump(formatted_conversations, output_file, indent=2)\n"
   ]
  },
  {
   "cell_type": "markdown",
   "metadata": {},
   "source": [
    "## Push Dataset to Hub"
   ]
  },
  {
   "cell_type": "code",
   "execution_count": null,
   "metadata": {},
   "outputs": [],
   "source": [
    "from huggingface_hub import notebook_login\n",
    "from datasets import load_dataset\n",
    "notebook_login()"
   ]
  },
  {
   "cell_type": "code",
   "execution_count": null,
   "metadata": {},
   "outputs": [],
   "source": [
    "dataset = load_dataset('json', data_files='./data/huggingface_companion.json' , split='train')"
   ]
  },
  {
   "cell_type": "code",
   "execution_count": null,
   "metadata": {},
   "outputs": [],
   "source": [
    "print(dataset['text'][:10])"
   ]
  },
  {
   "cell_type": "code",
   "execution_count": null,
   "metadata": {},
   "outputs": [],
   "source": [
    "dataset.push_to_hub(\"CompanionLLama_Instruction_Memeory_30k\")"
   ]
  },
  {
   "cell_type": "code",
   "execution_count": null,
   "metadata": {},
   "outputs": [],
   "source": []
  }
 ],
 "metadata": {
  "kernelspec": {
   "display_name": "Python 3",
   "language": "python",
   "name": "python3"
  },
  "language_info": {
   "codemirror_mode": {
    "name": "ipython",
    "version": 3
   },
   "file_extension": ".py",
   "mimetype": "text/x-python",
   "name": "python",
   "nbconvert_exporter": "python",
   "pygments_lexer": "ipython3",
   "version": "3.11.0"
  },
  "orig_nbformat": 4
 },
 "nbformat": 4,
 "nbformat_minor": 2
}
