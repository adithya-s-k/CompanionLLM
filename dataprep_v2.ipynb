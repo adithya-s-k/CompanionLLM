{
 "cells": [
  {
   "cell_type": "markdown",
   "metadata": {},
   "source": [
    "## Processing Dataset"
   ]
  },
  {
   "cell_type": "code",
   "execution_count": 1,
   "metadata": {},
   "outputs": [],
   "source": [
    "import json\n",
    "\n",
    "with open('./data/companion_base_dataset.json', 'r', encoding='utf-8') as json_file:\n",
    "    data = json.load(json_file)\n",
    "\n",
    "new_data = []\n",
    "\n",
    "for item in data:\n",
    "    conversation_id = item['id']\n",
    "    conversations = item['conversations']\n",
    "    temp_list = []\n",
    "    \n",
    "    if len(item['conversations'])%2 == 0:\n",
    "        for i in range(0,len(conversations),2):\n",
    "            iteration = int(i/2)\n",
    "            interated_conversations = f\"conversation_{iteration}\"\n",
    "            temp_list.append(item['conversations'][i:i+2])\n",
    "        new_item ={\n",
    "            \"id\": conversation_id,\n",
    "            \"conversations\": temp_list\n",
    "        }\n",
    "        new_data.append(new_item)\n",
    "    else:\n",
    "        print(\"Odd number of conversations\")\n",
    "\n",
    "output_file_path = './data/companion_dataset_v2.json'\n",
    "with open(output_file_path, 'w') as output_file:\n",
    "    json.dump(new_data, output_file, indent=2)"
   ]
  },
  {
   "cell_type": "markdown",
   "metadata": {},
   "source": [
    "#### Editing Companion Name"
   ]
  },
  {
   "cell_type": "code",
   "execution_count": 3,
   "metadata": {},
   "outputs": [
    {
     "name": "stdout",
     "output_type": "stream",
     "text": [
      "Replacement complete. Modified JSON saved to: ./data/Avalon_dataset.json\n"
     ]
    }
   ],
   "source": [
    "import json\n",
    "\n",
    "# Define your input\n",
    "companion_name = \"Avalon\"\n",
    "\n",
    "# Load the JSON content from the file\n",
    "file_path = './data/companion_dataset_v2.json'  # Replace with your file path\n",
    "with open(file_path, 'r', encoding='utf-8') as json_file:\n",
    "    json_content = json_file.read()\n",
    "\n",
    "# Replace the special keyword with your input\n",
    "modified_content = json_content.replace(\"{CompanionLLama}\", companion_name)\n",
    "\n",
    "# Write the modified content back to the file\n",
    "output_file_path = f'./data/{companion_name}_dataset.json'  # Replace with your desired output file path\n",
    "with open(output_file_path, 'w', encoding='utf-8') as output_file:\n",
    "    output_file.write(modified_content)\n",
    "\n",
    "print(\"Replacement complete. Modified JSON saved to:\", output_file_path)"
   ]
  },
  {
   "cell_type": "markdown",
   "metadata": {},
   "source": [
    "#### Convert to Text dataset to feed to the model"
   ]
  },
  {
   "cell_type": "code",
   "execution_count": 4,
   "metadata": {},
   "outputs": [],
   "source": [
    "with open(\"./data/Avalon_dataset.json\" , \"r\" , encoding=\"utf-8\") as json_file:\n",
    "    data = json.load(json_file)\n",
    "    \n",
    "formatted_conversations = []\n",
    "\n",
    "for items in data:\n",
    "    for conversations in items[\"conversations\"]:\n",
    "        conversation_length = len(conversations)\n",
    "        text_conversation = \"\"\n",
    "        for idx,role in enumerate(conversations):\n",
    "            if role[\"from\"] == \"human\":\n",
    "                formatted_text = f\"### Human: {role['value']}\\n\"\n",
    "                text_conversation += formatted_text\n",
    "            elif role[\"from\"] == \"gpt\":\n",
    "                if idx == conversation_length - 1:  # Check if it's the last element\n",
    "                    formatted_text = f\"### Response: {role['value']}\"\n",
    "                    text_conversation += formatted_text\n",
    "                else:\n",
    "                    formatted_text = f\"### Companion: {role['value']}\\n\"\n",
    "                    text_conversation += formatted_text\n",
    "            \n",
    "        formatted_conversations.append({\"text\":text_conversation})\n",
    "        \n",
    "output_file_path = './data/huggingface_companion_v2.json'\n",
    "with open(output_file_path, 'w') as output_file:\n",
    "    json.dump(formatted_conversations, output_file, indent=2)\n"
   ]
  },
  {
   "cell_type": "markdown",
   "metadata": {},
   "source": [
    "## Push Dataset to Hub"
   ]
  },
  {
   "cell_type": "code",
   "execution_count": 5,
   "metadata": {},
   "outputs": [
    {
     "data": {
      "application/vnd.jupyter.widget-view+json": {
       "model_id": "8f64f8f2ed8b4e97b394bc13b2be801b",
       "version_major": 2,
       "version_minor": 0
      },
      "text/plain": [
       "VBox(children=(HTML(value='<center> <img\\nsrc=https://huggingface.co/front/assets/huggingface_logo-noborder.sv…"
      ]
     },
     "metadata": {},
     "output_type": "display_data"
    }
   ],
   "source": [
    "from huggingface_hub import notebook_login\n",
    "from datasets import load_dataset\n",
    "notebook_login()"
   ]
  },
  {
   "cell_type": "code",
   "execution_count": 6,
   "metadata": {},
   "outputs": [
    {
     "data": {
      "application/vnd.jupyter.widget-view+json": {
       "model_id": "886855d22e1149aa917cb6554c60e51e",
       "version_major": 2,
       "version_minor": 0
      },
      "text/plain": [
       "Downloading data files:   0%|          | 0/1 [00:00<?, ?it/s]"
      ]
     },
     "metadata": {},
     "output_type": "display_data"
    },
    {
     "data": {
      "application/vnd.jupyter.widget-view+json": {
       "model_id": "0cfeb5ad5a5642bca643da143780d05f",
       "version_major": 2,
       "version_minor": 0
      },
      "text/plain": [
       "Extracting data files:   0%|          | 0/1 [00:00<?, ?it/s]"
      ]
     },
     "metadata": {},
     "output_type": "display_data"
    },
    {
     "data": {
      "application/vnd.jupyter.widget-view+json": {
       "model_id": "0eec80d430614d74a0bb6747e3255560",
       "version_major": 2,
       "version_minor": 0
      },
      "text/plain": [
       "Generating train split: 0 examples [00:00, ? examples/s]"
      ]
     },
     "metadata": {},
     "output_type": "display_data"
    }
   ],
   "source": [
    "dataset = load_dataset('json', data_files='./data/huggingface_companion_v2.json' , split='train')"
   ]
  },
  {
   "cell_type": "code",
   "execution_count": 7,
   "metadata": {},
   "outputs": [
    {
     "name": "stdout",
     "output_type": "stream",
     "text": [
      "[\"### Human: Hey Avalon, I've run into a bit of a tricky situation at work, and I'm not sure how to handle it. Do you have any advice?\\n### Response: I'd be happy to help if I can. Can you give me some details about the situation you're facing?\"]\n"
     ]
    }
   ],
   "source": [
    "print(dataset['text'][:1])"
   ]
  },
  {
   "cell_type": "code",
   "execution_count": 8,
   "metadata": {},
   "outputs": [
    {
     "data": {
      "application/vnd.jupyter.widget-view+json": {
       "model_id": "a190bba1053c4b72997ba4e2029df84a",
       "version_major": 2,
       "version_minor": 0
      },
      "text/plain": [
       "Pushing dataset shards to the dataset hub:   0%|          | 0/1 [00:00<?, ?it/s]"
      ]
     },
     "metadata": {},
     "output_type": "display_data"
    },
    {
     "data": {
      "application/vnd.jupyter.widget-view+json": {
       "model_id": "405861ead2794ec5b555353f861af328",
       "version_major": 2,
       "version_minor": 0
      },
      "text/plain": [
       "Creating parquet from Arrow format:   0%|          | 0/30 [00:00<?, ?ba/s]"
      ]
     },
     "metadata": {},
     "output_type": "display_data"
    }
   ],
   "source": [
    "dataset.push_to_hub(\"CompanionLLama_v2\")"
   ]
  }
 ],
 "metadata": {
  "kernelspec": {
   "display_name": "Python 3",
   "language": "python",
   "name": "python3"
  },
  "language_info": {
   "codemirror_mode": {
    "name": "ipython",
    "version": 3
   },
   "file_extension": ".py",
   "mimetype": "text/x-python",
   "name": "python",
   "nbconvert_exporter": "python",
   "pygments_lexer": "ipython3",
   "version": "3.11.0"
  },
  "orig_nbformat": 4
 },
 "nbformat": 4,
 "nbformat_minor": 2
}
